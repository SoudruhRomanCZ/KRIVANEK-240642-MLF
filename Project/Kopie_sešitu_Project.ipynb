{
  "nbformat": 4,
  "nbformat_minor": 0,
  "metadata": {
    "colab": {
      "provenance": [],
      "gpuType": "T4",
      "include_colab_link": true
    },
    "kernelspec": {
      "name": "python3",
      "display_name": "Python 3"
    },
    "language_info": {
      "name": "python"
    },
    "accelerator": "GPU"
  },
  "cells": [
    {
      "cell_type": "markdown",
      "metadata": {
        "id": "view-in-github",
        "colab_type": "text"
      },
      "source": [
        "<a href=\"https://colab.research.google.com/github/SoudruhRomanCZ/KRIVANEK-240642-MLF/blob/main/Project/Kopie_se%C5%A1itu_Project.ipynb\" target=\"_parent\"><img src=\"https://colab.research.google.com/assets/colab-badge.svg\" alt=\"Open In Colab\"/></a>"
      ]
    },
    {
      "cell_type": "markdown",
      "source": [
        "# **PROJEKT**"
      ],
      "metadata": {
        "id": "ldDEp0UO7eav"
      }
    },
    {
      "cell_type": "markdown",
      "source": [
        "#0. Import needed libraries"
      ],
      "metadata": {
        "id": "fjTb9OTT7XYO"
      }
    },
    {
      "cell_type": "code",
      "execution_count": 1,
      "metadata": {
        "id": "--LMPif471i9",
        "colab": {
          "base_uri": "https://localhost:8080/"
        },
        "outputId": "fb0af54d-e616-40aa-c34e-123f2994cf87"
      },
      "outputs": [
        {
          "output_type": "stream",
          "name": "stdout",
          "text": [
            "Mounted at /content/drive\n"
          ]
        }
      ],
      "source": [
        "from google.colab import drive\n",
        "drive.mount('/content/drive')\n",
        "import os\n",
        "import numpy as np\n",
        "import pandas as pd\n",
        "from sklearn.model_selection import train_test_split, GridSearchCV\n",
        "from sklearn.preprocessing import StandardScaler\n",
        "from keras.models import Sequential\n",
        "from tensorflow.keras.optimizers import Adam\n",
        "from tensorflow.keras.layers import Conv2D, MaxPooling2D, BatchNormalization, Flatten, Dense, Dropout\n",
        "from tensorflow.keras.utils import to_categorical\n",
        "from sklearn.utils.class_weight import compute_class_weight\n",
        "from tensorflow.keras.callbacks import EarlyStopping\n",
        "import matplotlib.pyplot as plt\n",
        "import numpy as np\n",
        "from sklearn.metrics import confusion_matrix"
      ]
    },
    {
      "cell_type": "markdown",
      "source": [
        "#1. data preprocesing\n",
        "## 1.1 Importing data"
      ],
      "metadata": {
        "id": "n5tnDYu37cT3"
      }
    },
    {
      "cell_type": "code",
      "source": [
        "print(os.listdir('/content/drive/MyDrive/MPA-MLF-Project_data'))"
      ],
      "metadata": {
        "colab": {
          "base_uri": "https://localhost:8080/"
        },
        "id": "moSvaHzF-l0T",
        "outputId": "245ae4e2-1d9e-4865-8887-fa20288af689"
      },
      "execution_count": 2,
      "outputs": [
        {
          "output_type": "stream",
          "name": "stdout",
          "text": [
            "['test_format.csv', 'label_train.csv', 'Test', 'Train']\n"
          ]
        }
      ]
    },
    {
      "cell_type": "code",
      "source": [
        "# Set the path to your data\n",
        "drive.mount('/content/drive')\n",
        "data_path = '/content/drive/MyDrive/MPA-MLF-Project_data'\n",
        "\n",
        "\n",
        "# Load the CSV files\n",
        "label_train = pd.read_csv(os.path.join(data_path, 'label_train.csv'))\n",
        "test_format = pd.read_csv(os.path.join(data_path, 'test_format.csv'))\n",
        "\n",
        "# Load all NPY files from the Train directory\n",
        "train_data = []\n",
        "for i in range(1491):  # Assuming files are named from 0.npy to 1490.npy\n",
        "    file_path = os.path.join(data_path, 'Train', f'{i}.npy')\n",
        "    if os.path.exists(file_path):\n",
        "        data = np.load(file_path)\n",
        "        train_data.append(data)\n",
        "\n",
        "# Convert list to a NumPy array\n",
        "train_data = np.array(train_data)\n",
        "\n",
        "# Load all NPY files from the Test directory\n",
        "test_data = []\n",
        "for i in range(120):  # Assuming files are named from 0.npy to 119.npy\n",
        "    file_path = os.path.join(data_path, 'Test', f'{i}.npy')\n",
        "    if os.path.exists(file_path):\n",
        "        data = np.load(file_path)\n",
        "        test_data.append(data)\n",
        "\n",
        "# Convert list to a NumPy array\n",
        "test_data = np.array(test_data)\n",
        "\n",
        "# Display the shapes of the loaded data\n",
        "print(f'Train data shape: {train_data.shape}')\n",
        "print(f'Test data shape: {test_data.shape}')\n"
      ],
      "metadata": {
        "id": "-1EXNR6b7cr7",
        "colab": {
          "base_uri": "https://localhost:8080/"
        },
        "outputId": "fa89b387-7b55-45be-ba44-238ac2dcf27e"
      },
      "execution_count": 3,
      "outputs": [
        {
          "output_type": "stream",
          "name": "stdout",
          "text": [
            "Drive already mounted at /content/drive; to attempt to forcibly remount, call drive.mount(\"/content/drive\", force_remount=True).\n",
            "Train data shape: (1491, 72, 48)\n",
            "Test data shape: (120, 72, 48)\n"
          ]
        }
      ]
    },
    {
      "cell_type": "code",
      "source": [
        "print(train_data[0])\n",
        "print(test_data[0])\n",
        "print(label_train)\n",
        "print(test_format)"
      ],
      "metadata": {
        "colab": {
          "base_uri": "https://localhost:8080/"
        },
        "id": "nALowz5BEcA0",
        "outputId": "8626ff67-94f2-4cd9-c543-a23e0271fb7b"
      },
      "execution_count": 4,
      "outputs": [
        {
          "output_type": "stream",
          "name": "stdout",
          "text": [
            "[[-42.94846208 -34.19988488 -30.69119585 ... -43.47883062 -31.54647995\n",
            "  -45.9194625 ]\n",
            " [-41.86518571 -34.80668569 -41.2543513  ... -43.86449976 -30.51855427\n",
            "  -42.34268155]\n",
            " [-44.17245767 -30.68308296 -46.65993373 ... -31.69508203 -35.44104458\n",
            "  -52.93088205]\n",
            " ...\n",
            " [-54.30841153 -34.66132862 -34.0509651  ... -43.77111016 -22.20773064\n",
            "  -33.01597406]\n",
            " [-57.27087524 -22.44226418 -40.00710921 ... -35.46174065 -32.99610352\n",
            "  -40.59258701]\n",
            " [-49.27546527 -32.22061918 -31.86473242 ... -31.3190966  -36.97273765\n",
            "  -36.31152144]]\n",
            "[[-11.25314668 -31.84428476 -22.68082809 ... -22.52479543 -32.91363933\n",
            "  -29.65546479]\n",
            " [-21.6004675  -37.93874162 -19.49501801 ... -24.53372017 -25.91555421\n",
            "  -33.29106494]\n",
            " [-12.72565979 -19.45708105 -24.2567116  ... -24.55794644 -26.70381511\n",
            "  -34.58798993]\n",
            " ...\n",
            " [-20.83848579 -20.17628113 -27.87154065 ... -13.50993688 -23.19541761\n",
            "  -30.58345256]\n",
            " [  0.5148323  -22.00535833 -18.17926808 ... -20.55218552 -28.46280408\n",
            "  -26.58848488]\n",
            " [-19.46380877 -18.83375454 -19.52200601 ... -20.63643256 -10.84895761\n",
            "  -27.95429466]]\n",
            "        ID  target\n",
            "0        0       0\n",
            "1        1       0\n",
            "2        2       0\n",
            "3        3       0\n",
            "4        4       0\n",
            "...    ...     ...\n",
            "1486  1486       0\n",
            "1487  1487       1\n",
            "1488  1488       0\n",
            "1489  1489       0\n",
            "1490  1490       0\n",
            "\n",
            "[1491 rows x 2 columns]\n",
            "      ID  target\n",
            "0      0       0\n",
            "1      1       0\n",
            "2      2       0\n",
            "3      3       0\n",
            "4      4       0\n",
            "..   ...     ...\n",
            "115  115       0\n",
            "116  116       0\n",
            "117  117       0\n",
            "118  118       0\n",
            "119  119       0\n",
            "\n",
            "[120 rows x 2 columns]\n"
          ]
        }
      ]
    },
    {
      "cell_type": "markdown",
      "source": [
        "##1.2 Preprocesing data"
      ],
      "metadata": {
        "id": "s61ZarIf7c8Y"
      }
    },
    {
      "cell_type": "code",
      "source": [
        "def data_augm(dataset: np.array, dataset_labels: np.array, awgn_std: int) -> tuple:\n",
        "    bts_0 = dataset[dataset_labels == 0]\n",
        "    bts_1 = dataset[dataset_labels == 1]\n",
        "    bts_2 = dataset[dataset_labels == 2]\n",
        "    #mean = np.mean(dataset)\n",
        "    for k in range(2):\n",
        "        bts_0 = bts_0 + np.random.normal(0, awgn_std + 2*k, (bts_0.shape[0], bts_0.shape[1], bts_0.shape[2])) #adding AWGN\n",
        "        dataset = np.append(dataset, bts_0, 0)\n",
        "        dataset_labels = np.append(dataset_labels, np.zeros(bts_0.shape[0]))\n",
        "\n",
        "    num_of_bts0 = np.count_nonzero(dataset_labels == 0)\n",
        "\n",
        "    for k in range(num_of_bts0//bts_1.shape[0]):\n",
        "        bts_1 = bts_1 + np.random.normal(0, awgn_std + k//3, (bts_1.shape[0], bts_1.shape[1], bts_1.shape[2])) #adding AWGN\n",
        "        dataset = np.append(dataset, bts_1, 0)\n",
        "        dataset_labels = np.append(dataset_labels, np.ones(bts_1.shape[0]))\n",
        "\n",
        "    for k in range(num_of_bts0//bts_2.shape[0] ):\n",
        "        bts_2 = bts_2 + np.random.normal(0, awgn_std + k//3, (bts_2.shape[0], bts_2.shape[1], bts_2.shape[2])) #adding AWGN\n",
        "        dataset = np.append(dataset, bts_2, 0)\n",
        "        dataset_labels = np.append(dataset_labels, 2 * np.ones(bts_2.shape[0]))\n",
        "\n",
        "    return dataset, dataset_labels"
      ],
      "metadata": {
        "id": "eLbPzLKWDw38"
      },
      "execution_count": 5,
      "outputs": []
    },
    {
      "cell_type": "code",
      "source": [
        "y_label = label_train[\"target\"].values  # Extrahujeme správný sloupec\n",
        "y_test_label = test_format[\"target\"].values   # Testovací štítky\n",
        "train_data, y_label = data_augm(train_data,y_label,3)\n",
        "\n",
        "# Rozdělení dat s rovnoměrným zastoupením tříd\n",
        "X_train, X_test, y_train, y_test = train_test_split(\n",
        "    train_data,\n",
        "    y_label,\n",
        "    test_size=0.2,\n",
        "    random_state=42,\n",
        ")\n",
        "\n",
        "print(y_label)\n",
        "print(y_test_label)"
      ],
      "metadata": {
        "id": "AylRTOtnRzki",
        "colab": {
          "base_uri": "https://localhost:8080/"
        },
        "outputId": "b4cbd0fa-80be-41d6-af34-18fbc31b92bb"
      },
      "execution_count": 6,
      "outputs": [
        {
          "output_type": "stream",
          "name": "stdout",
          "text": [
            "[0. 0. 0. ... 2. 2. 2.]\n",
            "[0 0 0 0 0 0 0 0 0 0 0 0 0 0 0 0 0 0 0 0 0 0 0 0 0 0 0 0 0 0 0 0 0 0 0 0 0\n",
            " 0 0 0 0 0 0 0 0 0 0 0 0 0 0 0 0 0 0 0 0 0 0 0 0 0 0 0 0 0 0 0 0 0 0 0 0 0\n",
            " 0 0 0 0 0 0 0 0 0 0 0 0 0 0 0 0 0 0 0 0 0 0 0 0 0 0 0 0 0 0 0 0 0 0 0 0 0\n",
            " 0 0 0 0 0 0 0 0 0]\n"
          ]
        }
      ]
    },
    {
      "cell_type": "code",
      "source": [
        "# Přetvarujeme data tak, aby každý vzorek byl jedním řádkem (3456 = 72*48)\n",
        "X_train_reshaped = X_train.reshape(X_train.shape[0], -1)\n",
        "X_test_reshaped = X_test.reshape(X_test.shape[0], -1)\n",
        "test_data_reshaped = test_data.reshape(test_data.shape[0], -1)\n",
        "\n",
        "scaler = StandardScaler()\n",
        "X_train_scaled = scaler.fit_transform(X_train_reshaped)\n",
        "X_test_scaled = scaler.transform(X_test_reshaped)\n",
        "test_data_scaled = scaler.transform(test_data_reshaped)\n",
        "\n",
        "# Vracíme data zpět do původního 2D tvaru\n",
        "X_train_scaled = X_train_scaled.reshape(X_train.shape)\n",
        "X_test_scaled = X_test_scaled.reshape(X_test.shape)\n",
        "test_data_scaled = test_data_scaled.reshape(test_data.shape)\n",
        "\n",
        "print(test_data_scaled.shape)\n",
        "print(X_train_scaled.shape)\n",
        "print(X_test_scaled.shape)\n"
      ],
      "metadata": {
        "colab": {
          "base_uri": "https://localhost:8080/"
        },
        "id": "BZJd5ZVFNfeB",
        "outputId": "27174bbc-e6e1-4550-d139-eb876c73202e"
      },
      "execution_count": 7,
      "outputs": [
        {
          "output_type": "stream",
          "name": "stdout",
          "text": [
            "(120, 72, 48)\n",
            "(8767, 72, 48)\n",
            "(2192, 72, 48)\n"
          ]
        }
      ]
    },
    {
      "cell_type": "code",
      "source": [
        "X_train_final = X_train_scaled[..., np.newaxis]  # tvar (1491, 72, 48, 1)\n",
        "X_test_final = X_test_scaled[..., np.newaxis]"
      ],
      "metadata": {
        "id": "yjq1pww5OYDB"
      },
      "execution_count": 8,
      "outputs": []
    },
    {
      "cell_type": "code",
      "source": [
        "y_train_encoded = to_categorical(y_train, num_classes=3)\n",
        "y_test_encoded = to_categorical(y_test, num_classes=3)\n",
        "\n",
        "print(y_train_encoded.shape)\n",
        "print(y_test_encoded.shape)"
      ],
      "metadata": {
        "colab": {
          "base_uri": "https://localhost:8080/"
        },
        "id": "Nv2rnp7IOY3i",
        "outputId": "987cbebe-3a25-4e92-8737-9db0f9fe61e1"
      },
      "execution_count": 9,
      "outputs": [
        {
          "output_type": "stream",
          "name": "stdout",
          "text": [
            "(8767, 3)\n",
            "(2192, 3)\n"
          ]
        }
      ]
    },
    {
      "cell_type": "markdown",
      "source": [
        "#2. Model Selection and Implementation"
      ],
      "metadata": {
        "id": "sLMsKubl7zb1"
      }
    },
    {
      "cell_type": "code",
      "source": [
        "model = Sequential([\n",
        "    Conv2D(32, (3,3), activation='relu', input_shape=(72, 48, 1), padding='same'),\n",
        "    MaxPooling2D((2,2)),\n",
        "\n",
        "    Flatten(),\n",
        "    #Dropout(0.5),  # Tento ponechej\n",
        "    Dense(128, activation='relu'),\n",
        "    Dense(3, activation='softmax')\n",
        "])\n",
        "\n",
        "\n",
        "model.compile(optimizer=Adam(1e-4), loss='categorical_crossentropy', metrics=['accuracy'])\n",
        "model.summary()"
      ],
      "metadata": {
        "colab": {
          "base_uri": "https://localhost:8080/",
          "height": 344
        },
        "id": "azQqCHmSUFBx",
        "outputId": "11632fb6-193a-4e60-bbca-2965871ddff6"
      },
      "execution_count": 10,
      "outputs": [
        {
          "output_type": "stream",
          "name": "stderr",
          "text": [
            "/usr/local/lib/python3.11/dist-packages/keras/src/layers/convolutional/base_conv.py:107: UserWarning: Do not pass an `input_shape`/`input_dim` argument to a layer. When using Sequential models, prefer using an `Input(shape)` object as the first layer in the model instead.\n",
            "  super().__init__(activity_regularizer=activity_regularizer, **kwargs)\n"
          ]
        },
        {
          "output_type": "display_data",
          "data": {
            "text/plain": [
              "\u001b[1mModel: \"sequential\"\u001b[0m\n"
            ],
            "text/html": [
              "<pre style=\"white-space:pre;overflow-x:auto;line-height:normal;font-family:Menlo,'DejaVu Sans Mono',consolas,'Courier New',monospace\"><span style=\"font-weight: bold\">Model: \"sequential\"</span>\n",
              "</pre>\n"
            ]
          },
          "metadata": {}
        },
        {
          "output_type": "display_data",
          "data": {
            "text/plain": [
              "┏━━━━━━━━━━━━━━━━━━━━━━━━━━━━━━━━━┳━━━━━━━━━━━━━━━━━━━━━━━━┳━━━━━━━━━━━━━━━┓\n",
              "┃\u001b[1m \u001b[0m\u001b[1mLayer (type)                   \u001b[0m\u001b[1m \u001b[0m┃\u001b[1m \u001b[0m\u001b[1mOutput Shape          \u001b[0m\u001b[1m \u001b[0m┃\u001b[1m \u001b[0m\u001b[1m      Param #\u001b[0m\u001b[1m \u001b[0m┃\n",
              "┡━━━━━━━━━━━━━━━━━━━━━━━━━━━━━━━━━╇━━━━━━━━━━━━━━━━━━━━━━━━╇━━━━━━━━━━━━━━━┩\n",
              "│ conv2d (\u001b[38;5;33mConv2D\u001b[0m)                 │ (\u001b[38;5;45mNone\u001b[0m, \u001b[38;5;34m72\u001b[0m, \u001b[38;5;34m48\u001b[0m, \u001b[38;5;34m32\u001b[0m)     │           \u001b[38;5;34m320\u001b[0m │\n",
              "├─────────────────────────────────┼────────────────────────┼───────────────┤\n",
              "│ max_pooling2d (\u001b[38;5;33mMaxPooling2D\u001b[0m)    │ (\u001b[38;5;45mNone\u001b[0m, \u001b[38;5;34m36\u001b[0m, \u001b[38;5;34m24\u001b[0m, \u001b[38;5;34m32\u001b[0m)     │             \u001b[38;5;34m0\u001b[0m │\n",
              "├─────────────────────────────────┼────────────────────────┼───────────────┤\n",
              "│ flatten (\u001b[38;5;33mFlatten\u001b[0m)               │ (\u001b[38;5;45mNone\u001b[0m, \u001b[38;5;34m27648\u001b[0m)          │             \u001b[38;5;34m0\u001b[0m │\n",
              "├─────────────────────────────────┼────────────────────────┼───────────────┤\n",
              "│ dense (\u001b[38;5;33mDense\u001b[0m)                   │ (\u001b[38;5;45mNone\u001b[0m, \u001b[38;5;34m128\u001b[0m)            │     \u001b[38;5;34m3,539,072\u001b[0m │\n",
              "├─────────────────────────────────┼────────────────────────┼───────────────┤\n",
              "│ dense_1 (\u001b[38;5;33mDense\u001b[0m)                 │ (\u001b[38;5;45mNone\u001b[0m, \u001b[38;5;34m3\u001b[0m)              │           \u001b[38;5;34m387\u001b[0m │\n",
              "└─────────────────────────────────┴────────────────────────┴───────────────┘\n"
            ],
            "text/html": [
              "<pre style=\"white-space:pre;overflow-x:auto;line-height:normal;font-family:Menlo,'DejaVu Sans Mono',consolas,'Courier New',monospace\">┏━━━━━━━━━━━━━━━━━━━━━━━━━━━━━━━━━┳━━━━━━━━━━━━━━━━━━━━━━━━┳━━━━━━━━━━━━━━━┓\n",
              "┃<span style=\"font-weight: bold\"> Layer (type)                    </span>┃<span style=\"font-weight: bold\"> Output Shape           </span>┃<span style=\"font-weight: bold\">       Param # </span>┃\n",
              "┡━━━━━━━━━━━━━━━━━━━━━━━━━━━━━━━━━╇━━━━━━━━━━━━━━━━━━━━━━━━╇━━━━━━━━━━━━━━━┩\n",
              "│ conv2d (<span style=\"color: #0087ff; text-decoration-color: #0087ff\">Conv2D</span>)                 │ (<span style=\"color: #00d7ff; text-decoration-color: #00d7ff\">None</span>, <span style=\"color: #00af00; text-decoration-color: #00af00\">72</span>, <span style=\"color: #00af00; text-decoration-color: #00af00\">48</span>, <span style=\"color: #00af00; text-decoration-color: #00af00\">32</span>)     │           <span style=\"color: #00af00; text-decoration-color: #00af00\">320</span> │\n",
              "├─────────────────────────────────┼────────────────────────┼───────────────┤\n",
              "│ max_pooling2d (<span style=\"color: #0087ff; text-decoration-color: #0087ff\">MaxPooling2D</span>)    │ (<span style=\"color: #00d7ff; text-decoration-color: #00d7ff\">None</span>, <span style=\"color: #00af00; text-decoration-color: #00af00\">36</span>, <span style=\"color: #00af00; text-decoration-color: #00af00\">24</span>, <span style=\"color: #00af00; text-decoration-color: #00af00\">32</span>)     │             <span style=\"color: #00af00; text-decoration-color: #00af00\">0</span> │\n",
              "├─────────────────────────────────┼────────────────────────┼───────────────┤\n",
              "│ flatten (<span style=\"color: #0087ff; text-decoration-color: #0087ff\">Flatten</span>)               │ (<span style=\"color: #00d7ff; text-decoration-color: #00d7ff\">None</span>, <span style=\"color: #00af00; text-decoration-color: #00af00\">27648</span>)          │             <span style=\"color: #00af00; text-decoration-color: #00af00\">0</span> │\n",
              "├─────────────────────────────────┼────────────────────────┼───────────────┤\n",
              "│ dense (<span style=\"color: #0087ff; text-decoration-color: #0087ff\">Dense</span>)                   │ (<span style=\"color: #00d7ff; text-decoration-color: #00d7ff\">None</span>, <span style=\"color: #00af00; text-decoration-color: #00af00\">128</span>)            │     <span style=\"color: #00af00; text-decoration-color: #00af00\">3,539,072</span> │\n",
              "├─────────────────────────────────┼────────────────────────┼───────────────┤\n",
              "│ dense_1 (<span style=\"color: #0087ff; text-decoration-color: #0087ff\">Dense</span>)                 │ (<span style=\"color: #00d7ff; text-decoration-color: #00d7ff\">None</span>, <span style=\"color: #00af00; text-decoration-color: #00af00\">3</span>)              │           <span style=\"color: #00af00; text-decoration-color: #00af00\">387</span> │\n",
              "└─────────────────────────────────┴────────────────────────┴───────────────┘\n",
              "</pre>\n"
            ]
          },
          "metadata": {}
        },
        {
          "output_type": "display_data",
          "data": {
            "text/plain": [
              "\u001b[1m Total params: \u001b[0m\u001b[38;5;34m3,539,779\u001b[0m (13.50 MB)\n"
            ],
            "text/html": [
              "<pre style=\"white-space:pre;overflow-x:auto;line-height:normal;font-family:Menlo,'DejaVu Sans Mono',consolas,'Courier New',monospace\"><span style=\"font-weight: bold\"> Total params: </span><span style=\"color: #00af00; text-decoration-color: #00af00\">3,539,779</span> (13.50 MB)\n",
              "</pre>\n"
            ]
          },
          "metadata": {}
        },
        {
          "output_type": "display_data",
          "data": {
            "text/plain": [
              "\u001b[1m Trainable params: \u001b[0m\u001b[38;5;34m3,539,779\u001b[0m (13.50 MB)\n"
            ],
            "text/html": [
              "<pre style=\"white-space:pre;overflow-x:auto;line-height:normal;font-family:Menlo,'DejaVu Sans Mono',consolas,'Courier New',monospace\"><span style=\"font-weight: bold\"> Trainable params: </span><span style=\"color: #00af00; text-decoration-color: #00af00\">3,539,779</span> (13.50 MB)\n",
              "</pre>\n"
            ]
          },
          "metadata": {}
        },
        {
          "output_type": "display_data",
          "data": {
            "text/plain": [
              "\u001b[1m Non-trainable params: \u001b[0m\u001b[38;5;34m0\u001b[0m (0.00 B)\n"
            ],
            "text/html": [
              "<pre style=\"white-space:pre;overflow-x:auto;line-height:normal;font-family:Menlo,'DejaVu Sans Mono',consolas,'Courier New',monospace\"><span style=\"font-weight: bold\"> Non-trainable params: </span><span style=\"color: #00af00; text-decoration-color: #00af00\">0</span> (0.00 B)\n",
              "</pre>\n"
            ]
          },
          "metadata": {}
        }
      ]
    },
    {
      "cell_type": "code",
      "source": [
        "class_weights = compute_class_weight(\n",
        "    class_weight='balanced',\n",
        "    classes=np.unique(y_train),\n",
        "    y=y_train\n",
        ")\n",
        "\n",
        "class_weights = dict(enumerate(class_weights))\n",
        "print(class_weights)"
      ],
      "metadata": {
        "colab": {
          "base_uri": "https://localhost:8080/"
        },
        "id": "6RCX0QhOu1aI",
        "outputId": "da7b4787-d19d-448b-b9f0-2a10314f28ec"
      },
      "execution_count": 11,
      "outputs": [
        {
          "output_type": "stream",
          "name": "stdout",
          "text": [
            "{0: np.float64(1.0115380177685473), 1: np.float64(0.9980646630236795), 2: np.float64(0.9906214689265537)}\n"
          ]
        }
      ]
    },
    {
      "cell_type": "markdown",
      "source": [
        "#3. Model Training"
      ],
      "metadata": {
        "id": "AcU6vM8272Lu"
      }
    },
    {
      "cell_type": "code",
      "source": [
        "early_stop = EarlyStopping(monitor='val_loss', patience=5, restore_best_weights=True)\n",
        "\n",
        "history = model.fit(X_train_final, y_train_encoded,\n",
        "                    validation_data=(X_test_final, y_test_encoded),\n",
        "                    epochs=20,\n",
        "                    batch_size=33,\n",
        "                    class_weight=class_weights,\n",
        "                    callbacks=[early_stop]\n",
        "                    )"
      ],
      "metadata": {
        "colab": {
          "base_uri": "https://localhost:8080/"
        },
        "id": "GzyNsgM9Ug7B",
        "outputId": "931864eb-6f5e-425a-f134-18f4410fdd4b"
      },
      "execution_count": 12,
      "outputs": [
        {
          "output_type": "stream",
          "name": "stdout",
          "text": [
            "Epoch 1/20\n",
            "\u001b[1m266/266\u001b[0m \u001b[32m━━━━━━━━━━━━━━━━━━━━\u001b[0m\u001b[37m\u001b[0m \u001b[1m35s\u001b[0m 124ms/step - accuracy: 0.8001 - loss: 0.5277 - val_accuracy: 0.9840 - val_loss: 0.0658\n",
            "Epoch 2/20\n",
            "\u001b[1m266/266\u001b[0m \u001b[32m━━━━━━━━━━━━━━━━━━━━\u001b[0m\u001b[37m\u001b[0m \u001b[1m37s\u001b[0m 112ms/step - accuracy: 0.9879 - loss: 0.0533 - val_accuracy: 0.9964 - val_loss: 0.0238\n",
            "Epoch 3/20\n",
            "\u001b[1m266/266\u001b[0m \u001b[32m━━━━━━━━━━━━━━━━━━━━\u001b[0m\u001b[37m\u001b[0m \u001b[1m43s\u001b[0m 120ms/step - accuracy: 0.9970 - loss: 0.0206 - val_accuracy: 0.9982 - val_loss: 0.0129\n",
            "Epoch 4/20\n",
            "\u001b[1m266/266\u001b[0m \u001b[32m━━━━━━━━━━━━━━━━━━━━\u001b[0m\u001b[37m\u001b[0m \u001b[1m39s\u001b[0m 114ms/step - accuracy: 0.9992 - loss: 0.0115 - val_accuracy: 0.9995 - val_loss: 0.0104\n",
            "Epoch 5/20\n",
            "\u001b[1m266/266\u001b[0m \u001b[32m━━━━━━━━━━━━━━━━━━━━\u001b[0m\u001b[37m\u001b[0m \u001b[1m40s\u001b[0m 111ms/step - accuracy: 0.9996 - loss: 0.0076 - val_accuracy: 1.0000 - val_loss: 0.0046\n",
            "Epoch 6/20\n",
            "\u001b[1m266/266\u001b[0m \u001b[32m━━━━━━━━━━━━━━━━━━━━\u001b[0m\u001b[37m\u001b[0m \u001b[1m30s\u001b[0m 113ms/step - accuracy: 0.9996 - loss: 0.0046 - val_accuracy: 1.0000 - val_loss: 0.0032\n",
            "Epoch 7/20\n",
            "\u001b[1m266/266\u001b[0m \u001b[32m━━━━━━━━━━━━━━━━━━━━\u001b[0m\u001b[37m\u001b[0m \u001b[1m41s\u001b[0m 114ms/step - accuracy: 1.0000 - loss: 0.0029 - val_accuracy: 1.0000 - val_loss: 0.0022\n",
            "Epoch 8/20\n",
            "\u001b[1m266/266\u001b[0m \u001b[32m━━━━━━━━━━━━━━━━━━━━\u001b[0m\u001b[37m\u001b[0m \u001b[1m41s\u001b[0m 113ms/step - accuracy: 1.0000 - loss: 0.0023 - val_accuracy: 1.0000 - val_loss: 0.0017\n",
            "Epoch 9/20\n",
            "\u001b[1m266/266\u001b[0m \u001b[32m━━━━━━━━━━━━━━━━━━━━\u001b[0m\u001b[37m\u001b[0m \u001b[1m30s\u001b[0m 114ms/step - accuracy: 1.0000 - loss: 0.0016 - val_accuracy: 1.0000 - val_loss: 0.0013\n",
            "Epoch 10/20\n",
            "\u001b[1m266/266\u001b[0m \u001b[32m━━━━━━━━━━━━━━━━━━━━\u001b[0m\u001b[37m\u001b[0m \u001b[1m29s\u001b[0m 108ms/step - accuracy: 1.0000 - loss: 0.0014 - val_accuracy: 1.0000 - val_loss: 0.0013\n",
            "Epoch 11/20\n",
            "\u001b[1m266/266\u001b[0m \u001b[32m━━━━━━━━━━━━━━━━━━━━\u001b[0m\u001b[37m\u001b[0m \u001b[1m42s\u001b[0m 113ms/step - accuracy: 1.0000 - loss: 9.0470e-04 - val_accuracy: 1.0000 - val_loss: 7.8394e-04\n",
            "Epoch 12/20\n",
            "\u001b[1m266/266\u001b[0m \u001b[32m━━━━━━━━━━━━━━━━━━━━\u001b[0m\u001b[37m\u001b[0m \u001b[1m40s\u001b[0m 108ms/step - accuracy: 1.0000 - loss: 6.6689e-04 - val_accuracy: 1.0000 - val_loss: 6.6640e-04\n",
            "Epoch 13/20\n",
            "\u001b[1m266/266\u001b[0m \u001b[32m━━━━━━━━━━━━━━━━━━━━\u001b[0m\u001b[37m\u001b[0m \u001b[1m41s\u001b[0m 108ms/step - accuracy: 1.0000 - loss: 6.0881e-04 - val_accuracy: 1.0000 - val_loss: 5.6929e-04\n",
            "Epoch 14/20\n",
            "\u001b[1m266/266\u001b[0m \u001b[32m━━━━━━━━━━━━━━━━━━━━\u001b[0m\u001b[37m\u001b[0m \u001b[1m30s\u001b[0m 113ms/step - accuracy: 1.0000 - loss: 5.0712e-04 - val_accuracy: 1.0000 - val_loss: 4.0895e-04\n",
            "Epoch 15/20\n",
            "\u001b[1m266/266\u001b[0m \u001b[32m━━━━━━━━━━━━━━━━━━━━\u001b[0m\u001b[37m\u001b[0m \u001b[1m41s\u001b[0m 113ms/step - accuracy: 1.0000 - loss: 3.6640e-04 - val_accuracy: 1.0000 - val_loss: 3.4853e-04\n",
            "Epoch 16/20\n",
            "\u001b[1m266/266\u001b[0m \u001b[32m━━━━━━━━━━━━━━━━━━━━\u001b[0m\u001b[37m\u001b[0m \u001b[1m41s\u001b[0m 115ms/step - accuracy: 1.0000 - loss: 2.7720e-04 - val_accuracy: 1.0000 - val_loss: 2.9162e-04\n",
            "Epoch 17/20\n",
            "\u001b[1m266/266\u001b[0m \u001b[32m━━━━━━━━━━━━━━━━━━━━\u001b[0m\u001b[37m\u001b[0m \u001b[1m39s\u001b[0m 109ms/step - accuracy: 1.0000 - loss: 2.2631e-04 - val_accuracy: 1.0000 - val_loss: 2.4848e-04\n",
            "Epoch 18/20\n",
            "\u001b[1m266/266\u001b[0m \u001b[32m━━━━━━━━━━━━━━━━━━━━\u001b[0m\u001b[37m\u001b[0m \u001b[1m41s\u001b[0m 108ms/step - accuracy: 1.0000 - loss: 1.8358e-04 - val_accuracy: 1.0000 - val_loss: 2.5831e-04\n",
            "Epoch 19/20\n",
            "\u001b[1m266/266\u001b[0m \u001b[32m━━━━━━━━━━━━━━━━━━━━\u001b[0m\u001b[37m\u001b[0m \u001b[1m30s\u001b[0m 114ms/step - accuracy: 1.0000 - loss: 1.7539e-04 - val_accuracy: 1.0000 - val_loss: 1.7965e-04\n",
            "Epoch 20/20\n",
            "\u001b[1m266/266\u001b[0m \u001b[32m━━━━━━━━━━━━━━━━━━━━\u001b[0m\u001b[37m\u001b[0m \u001b[1m41s\u001b[0m 116ms/step - accuracy: 1.0000 - loss: 1.2675e-04 - val_accuracy: 1.0000 - val_loss: 1.9384e-04\n"
          ]
        }
      ]
    },
    {
      "cell_type": "markdown",
      "source": [
        "#4. Model Evaluation"
      ],
      "metadata": {
        "id": "hKVD4aAM77iS"
      }
    },
    {
      "cell_type": "code",
      "source": [
        "# Získání metrik z objektu history\n",
        "acc = history.history['accuracy']\n",
        "val_acc = history.history['val_accuracy']\n",
        "loss = history.history['loss']\n",
        "val_loss = history.history['val_loss']\n",
        "\n",
        "# Počet epoch\n",
        "epochs = range(1, len(acc) + 1)\n",
        "\n",
        "# Vykreslení přesnosti\n",
        "plt.figure(figsize=(14, 6))\n",
        "plt.subplot(1, 2, 1)\n",
        "plt.plot(epochs, acc, 'bo-', label='Tréninková přesnost')\n",
        "plt.plot(epochs, val_acc, 'ro-', label='Validační přesnost')\n",
        "plt.title('Tréninková a validační přesnost')\n",
        "plt.xlabel('Epochy')\n",
        "plt.ylabel('Přesnost')\n",
        "plt.legend()\n",
        "\n",
        "# Vykreslení ztráty\n",
        "plt.subplot(1, 2, 2)\n",
        "plt.plot(epochs, loss, 'bo-', label='Tréninková ztráta')\n",
        "plt.plot(epochs, val_loss, 'ro-', label='Validační ztráta')\n",
        "plt.title('Tréninková a validační ztráta')\n",
        "plt.xlabel('Epochy')\n",
        "plt.ylabel('Ztráta')\n",
        "plt.legend()\n",
        "\n",
        "plt.show()"
      ],
      "metadata": {
        "colab": {
          "base_uri": "https://localhost:8080/",
          "height": 565
        },
        "id": "L30LUCUvVFfq",
        "outputId": "0ab85e3d-e698-4efd-9f5c-7745e4872e2f"
      },
      "execution_count": 13,
      "outputs": [
        {
          "output_type": "display_data",
          "data": {
            "text/plain": [
              "<Figure size 1400x600 with 2 Axes>"
            ],
            "image/png": "[encoded data removed]"
          },
          "metadata": {}
        }
      ]
    },
    {
      "cell_type": "markdown",
      "source": [
        "#5. Hyperparameter Tuning"
      ],
      "metadata": {
        "id": "FYFYZOQu8D2B"
      }
    },
    {
      "cell_type": "code",
      "source": [],
      "metadata": {
        "id": "FuQ3u56bFNNr"
      },
      "execution_count": 13,
      "outputs": []
    },
    {
      "cell_type": "markdown",
      "source": [
        "#6. Conclusion\n",
        "\n"
      ],
      "metadata": {
        "id": "dHd0yitl8IAb"
      }
    },
    {
      "cell_type": "code",
      "source": [
        "y_pred = model.predict(X_test_final)\n",
        "cm = confusion_matrix(np.argmax(y_test_encoded, axis=1), np.argmax(y_pred, axis=1))\n",
        "print(cm)\n",
        "print()\n",
        "unique, counts = np.unique(y_train, return_counts=True)\n",
        "print(dict(zip(unique, counts)))\n",
        "print()\n",
        "print(np.unique(np.argmax(y_test_encoded, axis=1), return_counts=True))\n",
        "print(np.unique(np.argmax(y_train_encoded, axis=1), return_counts=True))\n",
        "from sklearn.metrics import classification_report\n",
        "print(classification_report(np.argmax(y_test_encoded, axis=1), np.argmax(model.predict(X_test_final), axis=1)))"
      ],
      "metadata": {
        "colab": {
          "base_uri": "https://localhost:8080/"
        },
        "id": "_JhIKCMWYl-U",
        "outputId": "a70eeb5d-6d94-4b1d-aab1-658aa18402c8"
      },
      "execution_count": 14,
      "outputs": [
        {
          "output_type": "stream",
          "name": "stdout",
          "text": [
            "\u001b[1m69/69\u001b[0m \u001b[32m━━━━━━━━━━━━━━━━━━━━\u001b[0m\u001b[37m\u001b[0m \u001b[1m2s\u001b[0m 23ms/step\n",
            "[[738   0   0]\n",
            " [  0 738   0]\n",
            " [  0   0 716]]\n",
            "\n",
            "{np.float64(0.0): np.int64(2889), np.float64(1.0): np.int64(2928), np.float64(2.0): np.int64(2950)}\n",
            "\n",
            "(array([0, 1, 2]), array([738, 738, 716]))\n",
            "(array([0, 1, 2]), array([2889, 2928, 2950]))\n",
            "\u001b[1m69/69\u001b[0m \u001b[32m━━━━━━━━━━━━━━━━━━━━\u001b[0m\u001b[37m\u001b[0m \u001b[1m2s\u001b[0m 25ms/step\n",
            "              precision    recall  f1-score   support\n",
            "\n",
            "           0       1.00      1.00      1.00       738\n",
            "           1       1.00      1.00      1.00       738\n",
            "           2       1.00      1.00      1.00       716\n",
            "\n",
            "    accuracy                           1.00      2192\n",
            "   macro avg       1.00      1.00      1.00      2192\n",
            "weighted avg       1.00      1.00      1.00      2192\n",
            "\n"
          ]
        }
      ]
    },
    {
      "cell_type": "code",
      "source": [
        "test_data_final = test_data_scaled[..., np.newaxis]  # přidá kanál: (120, 72, 48, 1)\n",
        "print(test_data_final.shape)  # ověř: (120, 72, 48, 1)\n",
        "\n",
        "pred = model.predict(test_data_final)\n",
        "\n",
        "array_to_save = np.vstack((np.arange(0, 119 + 1), np.argmax(pred, axis=1))).astype(np.int16)\n",
        "np.savetxt(\"my_guess.csv\", array_to_save.transpose(),\"%d\", \",\", header=\"ID,target\", comments=\"\")\n"
      ],
      "metadata": {
        "colab": {
          "base_uri": "https://localhost:8080/"
        },
        "id": "pK4hiRccGkiv",
        "outputId": "c7abd1d6-f9fa-4125-c40a-3248c435fb9c"
      },
      "execution_count": 16,
      "outputs": [
        {
          "output_type": "stream",
          "name": "stdout",
          "text": [
            "(120, 72, 48, 1)\n",
            "\u001b[1m4/4\u001b[0m \u001b[32m━━━━━━━━━━━━━━━━━━━━\u001b[0m\u001b[37m\u001b[0m \u001b[1m0s\u001b[0m 42ms/step\n"
          ]
        }
      ]
    }
  ]
}