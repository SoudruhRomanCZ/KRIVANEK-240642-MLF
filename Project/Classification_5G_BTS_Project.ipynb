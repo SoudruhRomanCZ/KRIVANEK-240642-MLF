{
  "nbformat": 4,
  "nbformat_minor": 0,
  "metadata": {
    "colab": {
      "provenance": [],
      "gpuType": "T4",
      "toc_visible": true,
      "include_colab_link": true
    },
    "kernelspec": {
      "name": "python3",
      "display_name": "Python 3"
    },
    "language_info": {
      "name": "python"
    },
    "accelerator": "GPU"
  },
  "cells": [
    {
      "cell_type": "markdown",
      "metadata": {
        "id": "view-in-github",
        "colab_type": "text"
      },
      "source": [
        "<a href=\"https://colab.research.google.com/github/SoudruhRomanCZ/KRIVANEK-240642-MLF/blob/main/Project/Classification_5G_BTS_Project.ipynb\" target=\"_parent\"><img src=\"https://colab.research.google.com/assets/colab-badge.svg\" alt=\"Open In Colab\"/></a>"
      ]
    },
    {
      "cell_type": "markdown",
      "source": [
        "# **PROJEKT**"
      ],
      "metadata": {
        "id": "ldDEp0UO7eav"
      }
    },
    {
      "cell_type": "markdown",
      "source": [
        "#0. Import needed libraries"
      ],
      "metadata": {
        "id": "fjTb9OTT7XYO"
      }
    },
    {
      "cell_type": "code",
      "execution_count": 19,
      "metadata": {
        "id": "--LMPif471i9"
      },
      "outputs": [],
      "source": [
        "import numpy as np\n",
        "import matplotlib.pyplot as plt\n",
        "import seaborn as sns\n",
        "import os\n",
        "from sklearn.model_selection import train_test_split\n",
        "from sklearn.utils import shuffle\n",
        "from sklearn.metrics import confusion_matrix, classification_report\n",
        "import tensorflow as tf\n",
        "from tensorflow.keras.models import Sequential\n",
        "from tensorflow.keras.layers import Conv2D, MaxPooling2D, Flatten, Dense, Dropout"
      ]
    },
    {
      "cell_type": "markdown",
      "source": [
        "# 1. Data preprocessing\n",
        "## 1.1 Importing data\n",
        "\n",
        "\n"
      ],
      "metadata": {
        "id": "n5tnDYu37cT3"
      }
    },
    {
      "cell_type": "code",
      "source": [
        "# Nastavení cesty k souborům na google drive\n",
        "#ve složce jsou 2 .csv soubory a 2 složky s .npy soubory\n",
        "drive.mount('/content/drive')\n",
        "data_path = '/content/drive/MyDrive/MPA-MLF-Project_data'\n",
        "\n",
        "# Načtení .csv souborů\n",
        "label_train = pd.read_csv(os.path.join(data_path, 'label_train.csv'))\n",
        "test_format = pd.read_csv(os.path.join(data_path, 'test_format.csv'))\n",
        "\n",
        "# Načtení .npy souborů pro testování\n",
        "train_data = []\n",
        "for i in range(1491):\n",
        "    file_path = os.path.join(data_path, 'Train', f'{i}.npy')\n",
        "    if os.path.exists(file_path):\n",
        "        data = np.load(file_path)\n",
        "        train_data.append(data)\n",
        "\n",
        "# Převedení listu do array\n",
        "train_data = np.array(train_data)\n",
        "\n",
        "# Načtení .npy souborů pro ověření přesnosti trénování\n",
        "test_data = []\n",
        "for i in range(120):\n",
        "    file_path = os.path.join(data_path, 'Test', f'{i}.npy')\n",
        "    if os.path.exists(file_path):\n",
        "        data = np.load(file_path)\n",
        "        test_data.append(data)\n",
        "\n",
        "# Převedení listu do array\n",
        "test_data = np.array(test_data)"
      ],
      "metadata": {
        "id": "-1EXNR6b7cr7",
        "colab": {
          "base_uri": "https://localhost:8080/"
        },
        "outputId": "03941b7b-8b2c-410e-a8d2-2d339446442f"
      },
      "execution_count": 20,
      "outputs": [
        {
          "output_type": "stream",
          "name": "stdout",
          "text": [
            "Drive already mounted at /content/drive; to attempt to forcibly remount, call drive.mount(\"/content/drive\", force_remount=True).\n"
          ]
        }
      ]
    },
    {
      "cell_type": "code",
      "source": [
        "# Zobrazení tvaru načtených dat\n",
        "print(f'Train data shape: {train_data.shape}')\n",
        "print(f'Test data shape: {test_data.shape}')\n",
        "print(f'Train label shape: {label_train.shape}')\n",
        "print(f'Test format shape: {test_format.shape}')"
      ],
      "metadata": {
        "colab": {
          "base_uri": "https://localhost:8080/"
        },
        "id": "nALowz5BEcA0",
        "outputId": "2df11af6-6c81-412a-df17-7e8d31391cf8"
      },
      "execution_count": 18,
      "outputs": [
        {
          "output_type": "stream",
          "name": "stdout",
          "text": [
            "Train data shape: (1491, 72, 48)\n",
            "Test data shape: (120, 72, 48)\n",
            "Train label shape: (1491, 2)\n",
            "Test format shape: (120, 2)\n"
          ]
        }
      ]
    },
    {
      "cell_type": "markdown",
      "source": [
        "##1.2 Preprocesing data"
      ],
      "metadata": {
        "id": "s61ZarIf7c8Y"
      }
    },
    {
      "cell_type": "code",
      "source": [
        "# === Nejprve rozděl originální data ===\n",
        "y_label = label_train[\"target\"].values\n",
        "X_train_orig, X_test, y_train_orig, y_test = train_test_split(\n",
        "    train_data,\n",
        "    y_label,\n",
        "    test_size=0.2,\n",
        "    random_state=42,\n",
        "    stratify=y_label  # zachová poměr tříd\n",
        ")\n",
        "\n",
        "# === Potom proveď augmentaci pouze na trénovací množině ===\n",
        "awgn_std=3.0\n",
        "# Rozdělíme data do tří tříd\n",
        "bts0 = X_train_orig[y_train_orig == 0]\n",
        "bts1 = X_train_orig[y_train_orig == 1]\n",
        "bts2 = X_train_orig[y_train_orig == 2]\n",
        "\n",
        "# Zjistíme počet vzorků pro každou třídu\n",
        "count0, count1, count2 = bts0.shape[0], bts1.shape[0], bts2.shape[0]\n",
        "target = max(count0, count1, count2)  # Cílový počet vzorků pro každou třídu\n",
        "\n",
        "# Funkce pro syntézu vzorků\n",
        "def synthesize(data, target_count):\n",
        "    n = data.shape[0]\n",
        "    diff = target_count - n  # Kolik syntetických vzorků doplníme\n",
        "    synthetic = []\n",
        "\n",
        "    for _ in range(diff):\n",
        "        idx = np.random.randint(n)  # Náhodný výběr existujícího vzorku\n",
        "        sample = data[idx]\n",
        "        noise = np.random.normal(0, awgn_std, size=sample.shape)\n",
        "        synthetic.append(sample + noise)\n",
        "    if synthetic:\n",
        "        synthetic = np.array(synthetic)\n",
        "        return np.concatenate([data, synthetic], axis=0)\n",
        "    else:\n",
        "        return data\n",
        "\n",
        "# Augmentace pro každou třídu\n",
        "new_bts0 = synthesize(bts0, target)\n",
        "new_bts1 = synthesize(bts1, target)\n",
        "new_bts2 = synthesize(bts2, target)\n",
        "\n",
        "# Spojíme všechna data dohromady a vytvoříme příslušné štítky\n",
        "X_train_augmented = np.concatenate([new_bts0, new_bts1, new_bts2], axis=0)\n",
        "y_train_augmented = np.concatenate(\n",
        "    [np.full(new_bts0.shape[0], 0, dtype=y_train_orig.dtype),\n",
        "     np.full(new_bts1.shape[0], 1, dtype=y_train_orig.dtype),\n",
        "     np.full(new_bts2.shape[0], 2, dtype=y_train_orig.dtype)\n",
        "    ], axis=0)\n",
        "\n",
        "# === Dále pokračuj standardním škálováním ===\n",
        "X_train_reshaped = X_train_augmented.reshape(X_train_augmented.shape[0], -1)\n",
        "X_test_reshaped = X_test.reshape(X_test.shape[0], -1)\n",
        "\n",
        "scaler = StandardScaler()\n",
        "X_train_scaled = scaler.fit_transform(X_train_reshaped)\n",
        "X_test_scaled = scaler.transform(X_test_reshaped)\n",
        "\n",
        "X_train_scaled = X_train_scaled.reshape(X_train_augmented.shape)\n",
        "X_test_scaled = X_test_scaled.reshape(X_test.shape)\n",
        "\n",
        "# === Přidání kanálové dimenze pro CNN ===\n",
        "X_train_final = X_train_scaled[..., np.newaxis]\n",
        "X_test_final = X_test_scaled[..., np.newaxis]\n",
        "\n",
        "# === One-hot encoding štítků ===\n",
        "y_train_encoded = to_categorical(y_train_augmented, num_classes=3)\n",
        "y_test_encoded = to_categorical(y_test, num_classes=3)\n"
      ],
      "metadata": {
        "id": "BqL0TKKAtyM1"
      },
      "execution_count": 9,
      "outputs": []
    },
    {
      "cell_type": "markdown",
      "source": [
        "#2. Model Selection and Implementation"
      ],
      "metadata": {
        "id": "sLMsKubl7zb1"
      }
    },
    {
      "cell_type": "code",
      "source": [
        "model = Sequential([\n",
        "    Conv2D(32, (3,3), activation='relu', input_shape=(72, 48, 1), padding='same'),\n",
        "    MaxPooling2D((2,2)),\n",
        "\n",
        "    Flatten(),\n",
        "    Dropout(0.4),\n",
        "    Dense(128, activation='relu'),\n",
        "    Dense(3, activation='softmax')\n",
        "])\n",
        "\n",
        "model.compile(optimizer=Adam(1e-4), loss='categorical_crossentropy', metrics=['accuracy'])\n",
        "model.summary()"
      ],
      "metadata": {
        "colab": {
          "base_uri": "https://localhost:8080/",
          "height": 376
        },
        "id": "azQqCHmSUFBx",
        "outputId": "d196669e-081a-4d99-fd1e-67c327aca932"
      },
      "execution_count": 10,
      "outputs": [
        {
          "output_type": "stream",
          "name": "stderr",
          "text": [
            "/usr/local/lib/python3.11/dist-packages/keras/src/layers/convolutional/base_conv.py:107: UserWarning: Do not pass an `input_shape`/`input_dim` argument to a layer. When using Sequential models, prefer using an `Input(shape)` object as the first layer in the model instead.\n",
            "  super().__init__(activity_regularizer=activity_regularizer, **kwargs)\n"
          ]
        },
        {
          "output_type": "display_data",
          "data": {
            "text/plain": [
              "\u001b[1mModel: \"sequential\"\u001b[0m\n"
            ],
            "text/html": [
              "<pre style=\"white-space:pre;overflow-x:auto;line-height:normal;font-family:Menlo,'DejaVu Sans Mono',consolas,'Courier New',monospace\"><span style=\"font-weight: bold\">Model: \"sequential\"</span>\n",
              "</pre>\n"
            ]
          },
          "metadata": {}
        },
        {
          "output_type": "display_data",
          "data": {
            "text/plain": [
              "┏━━━━━━━━━━━━━━━━━━━━━━━━━━━━━━━━━┳━━━━━━━━━━━━━━━━━━━━━━━━┳━━━━━━━━━━━━━━━┓\n",
              "┃\u001b[1m \u001b[0m\u001b[1mLayer (type)                   \u001b[0m\u001b[1m \u001b[0m┃\u001b[1m \u001b[0m\u001b[1mOutput Shape          \u001b[0m\u001b[1m \u001b[0m┃\u001b[1m \u001b[0m\u001b[1m      Param #\u001b[0m\u001b[1m \u001b[0m┃\n",
              "┡━━━━━━━━━━━━━━━━━━━━━━━━━━━━━━━━━╇━━━━━━━━━━━━━━━━━━━━━━━━╇━━━━━━━━━━━━━━━┩\n",
              "│ conv2d (\u001b[38;5;33mConv2D\u001b[0m)                 │ (\u001b[38;5;45mNone\u001b[0m, \u001b[38;5;34m72\u001b[0m, \u001b[38;5;34m48\u001b[0m, \u001b[38;5;34m32\u001b[0m)     │           \u001b[38;5;34m320\u001b[0m │\n",
              "├─────────────────────────────────┼────────────────────────┼───────────────┤\n",
              "│ max_pooling2d (\u001b[38;5;33mMaxPooling2D\u001b[0m)    │ (\u001b[38;5;45mNone\u001b[0m, \u001b[38;5;34m36\u001b[0m, \u001b[38;5;34m24\u001b[0m, \u001b[38;5;34m32\u001b[0m)     │             \u001b[38;5;34m0\u001b[0m │\n",
              "├─────────────────────────────────┼────────────────────────┼───────────────┤\n",
              "│ flatten (\u001b[38;5;33mFlatten\u001b[0m)               │ (\u001b[38;5;45mNone\u001b[0m, \u001b[38;5;34m27648\u001b[0m)          │             \u001b[38;5;34m0\u001b[0m │\n",
              "├─────────────────────────────────┼────────────────────────┼───────────────┤\n",
              "│ dropout (\u001b[38;5;33mDropout\u001b[0m)               │ (\u001b[38;5;45mNone\u001b[0m, \u001b[38;5;34m27648\u001b[0m)          │             \u001b[38;5;34m0\u001b[0m │\n",
              "├─────────────────────────────────┼────────────────────────┼───────────────┤\n",
              "│ dense (\u001b[38;5;33mDense\u001b[0m)                   │ (\u001b[38;5;45mNone\u001b[0m, \u001b[38;5;34m128\u001b[0m)            │     \u001b[38;5;34m3,539,072\u001b[0m │\n",
              "├─────────────────────────────────┼────────────────────────┼───────────────┤\n",
              "│ dense_1 (\u001b[38;5;33mDense\u001b[0m)                 │ (\u001b[38;5;45mNone\u001b[0m, \u001b[38;5;34m3\u001b[0m)              │           \u001b[38;5;34m387\u001b[0m │\n",
              "└─────────────────────────────────┴────────────────────────┴───────────────┘\n"
            ],
            "text/html": [
              "<pre style=\"white-space:pre;overflow-x:auto;line-height:normal;font-family:Menlo,'DejaVu Sans Mono',consolas,'Courier New',monospace\">┏━━━━━━━━━━━━━━━━━━━━━━━━━━━━━━━━━┳━━━━━━━━━━━━━━━━━━━━━━━━┳━━━━━━━━━━━━━━━┓\n",
              "┃<span style=\"font-weight: bold\"> Layer (type)                    </span>┃<span style=\"font-weight: bold\"> Output Shape           </span>┃<span style=\"font-weight: bold\">       Param # </span>┃\n",
              "┡━━━━━━━━━━━━━━━━━━━━━━━━━━━━━━━━━╇━━━━━━━━━━━━━━━━━━━━━━━━╇━━━━━━━━━━━━━━━┩\n",
              "│ conv2d (<span style=\"color: #0087ff; text-decoration-color: #0087ff\">Conv2D</span>)                 │ (<span style=\"color: #00d7ff; text-decoration-color: #00d7ff\">None</span>, <span style=\"color: #00af00; text-decoration-color: #00af00\">72</span>, <span style=\"color: #00af00; text-decoration-color: #00af00\">48</span>, <span style=\"color: #00af00; text-decoration-color: #00af00\">32</span>)     │           <span style=\"color: #00af00; text-decoration-color: #00af00\">320</span> │\n",
              "├─────────────────────────────────┼────────────────────────┼───────────────┤\n",
              "│ max_pooling2d (<span style=\"color: #0087ff; text-decoration-color: #0087ff\">MaxPooling2D</span>)    │ (<span style=\"color: #00d7ff; text-decoration-color: #00d7ff\">None</span>, <span style=\"color: #00af00; text-decoration-color: #00af00\">36</span>, <span style=\"color: #00af00; text-decoration-color: #00af00\">24</span>, <span style=\"color: #00af00; text-decoration-color: #00af00\">32</span>)     │             <span style=\"color: #00af00; text-decoration-color: #00af00\">0</span> │\n",
              "├─────────────────────────────────┼────────────────────────┼───────────────┤\n",
              "│ flatten (<span style=\"color: #0087ff; text-decoration-color: #0087ff\">Flatten</span>)               │ (<span style=\"color: #00d7ff; text-decoration-color: #00d7ff\">None</span>, <span style=\"color: #00af00; text-decoration-color: #00af00\">27648</span>)          │             <span style=\"color: #00af00; text-decoration-color: #00af00\">0</span> │\n",
              "├─────────────────────────────────┼────────────────────────┼───────────────┤\n",
              "│ dropout (<span style=\"color: #0087ff; text-decoration-color: #0087ff\">Dropout</span>)               │ (<span style=\"color: #00d7ff; text-decoration-color: #00d7ff\">None</span>, <span style=\"color: #00af00; text-decoration-color: #00af00\">27648</span>)          │             <span style=\"color: #00af00; text-decoration-color: #00af00\">0</span> │\n",
              "├─────────────────────────────────┼────────────────────────┼───────────────┤\n",
              "│ dense (<span style=\"color: #0087ff; text-decoration-color: #0087ff\">Dense</span>)                   │ (<span style=\"color: #00d7ff; text-decoration-color: #00d7ff\">None</span>, <span style=\"color: #00af00; text-decoration-color: #00af00\">128</span>)            │     <span style=\"color: #00af00; text-decoration-color: #00af00\">3,539,072</span> │\n",
              "├─────────────────────────────────┼────────────────────────┼───────────────┤\n",
              "│ dense_1 (<span style=\"color: #0087ff; text-decoration-color: #0087ff\">Dense</span>)                 │ (<span style=\"color: #00d7ff; text-decoration-color: #00d7ff\">None</span>, <span style=\"color: #00af00; text-decoration-color: #00af00\">3</span>)              │           <span style=\"color: #00af00; text-decoration-color: #00af00\">387</span> │\n",
              "└─────────────────────────────────┴────────────────────────┴───────────────┘\n",
              "</pre>\n"
            ]
          },
          "metadata": {}
        },
        {
          "output_type": "display_data",
          "data": {
            "text/plain": [
              "\u001b[1m Total params: \u001b[0m\u001b[38;5;34m3,539,779\u001b[0m (13.50 MB)\n"
            ],
            "text/html": [
              "<pre style=\"white-space:pre;overflow-x:auto;line-height:normal;font-family:Menlo,'DejaVu Sans Mono',consolas,'Courier New',monospace\"><span style=\"font-weight: bold\"> Total params: </span><span style=\"color: #00af00; text-decoration-color: #00af00\">3,539,779</span> (13.50 MB)\n",
              "</pre>\n"
            ]
          },
          "metadata": {}
        },
        {
          "output_type": "display_data",
          "data": {
            "text/plain": [
              "\u001b[1m Trainable params: \u001b[0m\u001b[38;5;34m3,539,779\u001b[0m (13.50 MB)\n"
            ],
            "text/html": [
              "<pre style=\"white-space:pre;overflow-x:auto;line-height:normal;font-family:Menlo,'DejaVu Sans Mono',consolas,'Courier New',monospace\"><span style=\"font-weight: bold\"> Trainable params: </span><span style=\"color: #00af00; text-decoration-color: #00af00\">3,539,779</span> (13.50 MB)\n",
              "</pre>\n"
            ]
          },
          "metadata": {}
        },
        {
          "output_type": "display_data",
          "data": {
            "text/plain": [
              "\u001b[1m Non-trainable params: \u001b[0m\u001b[38;5;34m0\u001b[0m (0.00 B)\n"
            ],
            "text/html": [
              "<pre style=\"white-space:pre;overflow-x:auto;line-height:normal;font-family:Menlo,'DejaVu Sans Mono',consolas,'Courier New',monospace\"><span style=\"font-weight: bold\"> Non-trainable params: </span><span style=\"color: #00af00; text-decoration-color: #00af00\">0</span> (0.00 B)\n",
              "</pre>\n"
            ]
          },
          "metadata": {}
        }
      ]
    },
    {
      "cell_type": "markdown",
      "source": [
        "#3. Model Training"
      ],
      "metadata": {
        "id": "AcU6vM8272Lu"
      }
    },
    {
      "cell_type": "code",
      "source": [
        "early_stop = EarlyStopping(monitor='val_loss', patience=5, restore_best_weights=True)\n",
        "\n",
        "history = model.fit(X_train_final, y_train_encoded,\n",
        "                    validation_data=(X_test_final, y_test_encoded),\n",
        "                    epochs=20,\n",
        "                    batch_size=32,\n",
        "                    callbacks=[early_stop]\n",
        "                    )"
      ],
      "metadata": {
        "colab": {
          "base_uri": "https://localhost:8080/"
        },
        "id": "GzyNsgM9Ug7B",
        "outputId": "de853644-2bfb-4f52-cea9-fdc2640408f7"
      },
      "execution_count": 11,
      "outputs": [
        {
          "output_type": "stream",
          "name": "stdout",
          "text": [
            "Epoch 1/20\n",
            "\u001b[1m91/91\u001b[0m \u001b[32m━━━━━━━━━━━━━━━━━━━━\u001b[0m\u001b[37m\u001b[0m \u001b[1m7s\u001b[0m 36ms/step - accuracy: 0.8463 - loss: 0.3609 - val_accuracy: 0.9967 - val_loss: 0.0200\n",
            "Epoch 2/20\n",
            "\u001b[1m91/91\u001b[0m \u001b[32m━━━━━━━━━━━━━━━━━━━━\u001b[0m\u001b[37m\u001b[0m \u001b[1m5s\u001b[0m 6ms/step - accuracy: 0.9970 - loss: 0.0205 - val_accuracy: 0.9933 - val_loss: 0.0184\n",
            "Epoch 3/20\n",
            "\u001b[1m91/91\u001b[0m \u001b[32m━━━━━━━━━━━━━━━━━━━━\u001b[0m\u001b[37m\u001b[0m \u001b[1m1s\u001b[0m 5ms/step - accuracy: 0.9986 - loss: 0.0089 - val_accuracy: 0.9933 - val_loss: 0.0130\n",
            "Epoch 4/20\n",
            "\u001b[1m91/91\u001b[0m \u001b[32m━━━━━━━━━━━━━━━━━━━━\u001b[0m\u001b[37m\u001b[0m \u001b[1m0s\u001b[0m 5ms/step - accuracy: 1.0000 - loss: 0.0029 - val_accuracy: 0.9933 - val_loss: 0.0129\n",
            "Epoch 5/20\n",
            "\u001b[1m91/91\u001b[0m \u001b[32m━━━━━━━━━━━━━━━━━━━━\u001b[0m\u001b[37m\u001b[0m \u001b[1m0s\u001b[0m 5ms/step - accuracy: 1.0000 - loss: 0.0021 - val_accuracy: 0.9967 - val_loss: 0.0098\n",
            "Epoch 6/20\n",
            "\u001b[1m91/91\u001b[0m \u001b[32m━━━━━━━━━━━━━━━━━━━━\u001b[0m\u001b[37m\u001b[0m \u001b[1m0s\u001b[0m 5ms/step - accuracy: 1.0000 - loss: 0.0014 - val_accuracy: 0.9967 - val_loss: 0.0091\n",
            "Epoch 7/20\n",
            "\u001b[1m91/91\u001b[0m \u001b[32m━━━━━━━━━━━━━━━━━━━━\u001b[0m\u001b[37m\u001b[0m \u001b[1m0s\u001b[0m 5ms/step - accuracy: 1.0000 - loss: 0.0011 - val_accuracy: 0.9967 - val_loss: 0.0091\n",
            "Epoch 8/20\n",
            "\u001b[1m91/91\u001b[0m \u001b[32m━━━━━━━━━━━━━━━━━━━━\u001b[0m\u001b[37m\u001b[0m \u001b[1m1s\u001b[0m 9ms/step - accuracy: 1.0000 - loss: 8.5756e-04 - val_accuracy: 0.9933 - val_loss: 0.0093\n",
            "Epoch 9/20\n",
            "\u001b[1m91/91\u001b[0m \u001b[32m━━━━━━━━━━━━━━━━━━━━\u001b[0m\u001b[37m\u001b[0m \u001b[1m1s\u001b[0m 8ms/step - accuracy: 1.0000 - loss: 8.2073e-04 - val_accuracy: 0.9933 - val_loss: 0.0097\n",
            "Epoch 10/20\n",
            "\u001b[1m91/91\u001b[0m \u001b[32m━━━━━━━━━━━━━━━━━━━━\u001b[0m\u001b[37m\u001b[0m \u001b[1m1s\u001b[0m 10ms/step - accuracy: 1.0000 - loss: 5.1264e-04 - val_accuracy: 0.9967 - val_loss: 0.0091\n",
            "Epoch 11/20\n",
            "\u001b[1m91/91\u001b[0m \u001b[32m━━━━━━━━━━━━━━━━━━━━\u001b[0m\u001b[37m\u001b[0m \u001b[1m1s\u001b[0m 8ms/step - accuracy: 1.0000 - loss: 4.7194e-04 - val_accuracy: 0.9933 - val_loss: 0.0098\n",
            "Epoch 12/20\n",
            "\u001b[1m91/91\u001b[0m \u001b[32m━━━━━━━━━━━━━━━━━━━━\u001b[0m\u001b[37m\u001b[0m \u001b[1m1s\u001b[0m 7ms/step - accuracy: 1.0000 - loss: 4.0059e-04 - val_accuracy: 0.9933 - val_loss: 0.0100\n",
            "Epoch 13/20\n",
            "\u001b[1m91/91\u001b[0m \u001b[32m━━━━━━━━━━━━━━━━━━━━\u001b[0m\u001b[37m\u001b[0m \u001b[1m1s\u001b[0m 9ms/step - accuracy: 1.0000 - loss: 2.8859e-04 - val_accuracy: 0.9967 - val_loss: 0.0085\n",
            "Epoch 14/20\n",
            "\u001b[1m91/91\u001b[0m \u001b[32m━━━━━━━━━━━━━━━━━━━━\u001b[0m\u001b[37m\u001b[0m \u001b[1m1s\u001b[0m 6ms/step - accuracy: 1.0000 - loss: 2.8127e-04 - val_accuracy: 0.9967 - val_loss: 0.0087\n",
            "Epoch 15/20\n",
            "\u001b[1m91/91\u001b[0m \u001b[32m━━━━━━━━━━━━━━━━━━━━\u001b[0m\u001b[37m\u001b[0m \u001b[1m1s\u001b[0m 6ms/step - accuracy: 1.0000 - loss: 2.5377e-04 - val_accuracy: 0.9933 - val_loss: 0.0111\n",
            "Epoch 16/20\n",
            "\u001b[1m91/91\u001b[0m \u001b[32m━━━━━━━━━━━━━━━━━━━━\u001b[0m\u001b[37m\u001b[0m \u001b[1m1s\u001b[0m 7ms/step - accuracy: 1.0000 - loss: 2.0616e-04 - val_accuracy: 0.9967 - val_loss: 0.0086\n",
            "Epoch 17/20\n",
            "\u001b[1m91/91\u001b[0m \u001b[32m━━━━━━━━━━━━━━━━━━━━\u001b[0m\u001b[37m\u001b[0m \u001b[1m1s\u001b[0m 8ms/step - accuracy: 1.0000 - loss: 1.9311e-04 - val_accuracy: 0.9933 - val_loss: 0.0094\n",
            "Epoch 18/20\n",
            "\u001b[1m91/91\u001b[0m \u001b[32m━━━━━━━━━━━━━━━━━━━━\u001b[0m\u001b[37m\u001b[0m \u001b[1m2s\u001b[0m 14ms/step - accuracy: 1.0000 - loss: 1.6554e-04 - val_accuracy: 0.9933 - val_loss: 0.0112\n"
          ]
        }
      ]
    },
    {
      "cell_type": "markdown",
      "source": [
        "#4. Model Evaluation"
      ],
      "metadata": {
        "id": "hKVD4aAM77iS"
      }
    },
    {
      "cell_type": "code",
      "source": [
        "# Získání metrik z objektu history\n",
        "acc = history.history['accuracy']\n",
        "val_acc = history.history['val_accuracy']\n",
        "loss = history.history['loss']\n",
        "val_loss = history.history['val_loss']\n",
        "\n",
        "# Počet epoch\n",
        "epochs = range(1, len(acc) + 1)\n",
        "\n",
        "# Vykreslení přesnosti\n",
        "plt.figure(figsize=(14, 6))\n",
        "plt.subplot(1, 2, 1)\n",
        "plt.plot(epochs, acc, 'bo-', label='Training accuracy')\n",
        "plt.plot(epochs, val_acc, 'ro-', label='Validation accuracy')\n",
        "plt.title('Training a Validation accuracy')\n",
        "plt.xlabel('Epochs')\n",
        "plt.ylabel('accuracy')\n",
        "plt.legend()\n",
        "\n",
        "# Vykreslení ztráty\n",
        "plt.subplot(1, 2, 2)\n",
        "plt.plot(epochs, loss, 'bo-', label='Training loss')\n",
        "plt.plot(epochs, val_loss, 'ro-', label='Validation loss')\n",
        "plt.title('Training a Validation loss')\n",
        "plt.xlabel('Epochs')\n",
        "plt.ylabel('Loss')\n",
        "plt.legend()\n",
        "\n",
        "plt.show()"
      ],
      "metadata": {
        "colab": {
          "base_uri": "https://localhost:8080/",
          "height": 564
        },
        "id": "L30LUCUvVFfq",
        "outputId": "1e4f96de-6afe-4dd0-c0a0-a0f82873ba0b"
      },
      "execution_count": 12,
      "outputs": [
        {
          "output_type": "display_data",
          "data": {
            "text/plain": [
              "<Figure size 1400x600 with 2 Axes>"
            ],
            "image/png": "[encoded data removed]"
          },
          "metadata": {}
        }
      ]
    },
    {
      "cell_type": "markdown",
      "source": [
        "#5. Conclusion\n",
        "\n"
      ],
      "metadata": {
        "id": "dHd0yitl8IAb"
      }
    },
    {
      "cell_type": "code",
      "source": [
        "# Predikce pro validační data\n",
        "y_pred = model.predict(X_test_final)\n",
        "\n",
        "# Převedeme predikce i ground-truth zpět na třídy (0, 1, 2)\n",
        "y_pred_classes = np.argmax(y_pred, axis=1)\n",
        "y_true_classes = np.argmax(y_test_encoded, axis=1)\n",
        "\n",
        "# Vytvoření matice záměn\n",
        "cm = confusion_matrix(y_true_classes, y_pred_classes)\n",
        "\n",
        "# Vykreslení\n",
        "plt.figure(figsize=(6, 5))\n",
        "sns.heatmap(cm, annot=True, fmt='d', cmap='Blues',\n",
        "            xticklabels=['BTS 0', 'BTS 1', 'BTS 2'],\n",
        "            yticklabels=['BTS 0', 'BTS 1', 'BTS 2'])\n",
        "plt.xlabel('Prediction')\n",
        "plt.ylabel('Real')\n",
        "plt.title('Confusion Matrix')\n",
        "plt.show()"
      ],
      "metadata": {
        "colab": {
          "base_uri": "https://localhost:8080/",
          "height": 504
        },
        "id": "E7Ct6U1Pxabw",
        "outputId": "272f7673-3c18-4eb4-8709-5df470473195"
      },
      "execution_count": 17,
      "outputs": [
        {
          "output_type": "stream",
          "name": "stdout",
          "text": [
            "\u001b[1m10/10\u001b[0m \u001b[32m━━━━━━━━━━━━━━━━━━━━\u001b[0m\u001b[37m\u001b[0m \u001b[1m0s\u001b[0m 3ms/step \n"
          ]
        },
        {
          "output_type": "display_data",
          "data": {
            "text/plain": [
              "<Figure size 600x500 with 2 Axes>"
            ],
            "image/png": "[encoded data removed]"
          },
          "metadata": {}
        }
      ]
    },
    {
      "cell_type": "markdown",
      "source": [
        "#6. Saving data"
      ],
      "metadata": {
        "id": "OU3idJ-oAZKT"
      }
    },
    {
      "cell_type": "code",
      "source": [
        "# === Příprava testovacích dat ===\n",
        "test_data_reshaped = test_data.reshape(test_data.shape[0], -1)  # (120, 3456)\n",
        "test_data_scaled = scaler.transform(test_data_reshaped)         # škálování jako tréninková data\n",
        "test_data_scaled = test_data_scaled.reshape(test_data.shape)    # zpět na (120, 72, 48)\n",
        "test_data_final = test_data_scaled[..., np.newaxis]             # přidání kanálu: (120, 72, 48, 1)\n",
        "print(test_data_final.shape)  # ověř: (120, 72, 48, 1)\n",
        "# === Kontrola modelu na testovacích datech ===\n",
        "pred = model.predict(test_data_final)\n",
        "# === Uložení predikce modelu do csv pro Kaggle ===\n",
        "array_to_save = np.vstack((np.arange(0, 119 + 1), np.argmax(pred, axis=1)))\n",
        "np.savetxt(\"/content/drive/MyDrive/MPA-MLF-Project_data/Evaluated_test_data.csv\", array_to_save.transpose(), \"%d\", \",\", header=\"ID,target\", comments=\"\")"
      ],
      "metadata": {
        "colab": {
          "base_uri": "https://localhost:8080/"
        },
        "id": "jK1dxudsaO57",
        "outputId": "5c0dba46-2839-4312-8432-7a06c531cc11"
      },
      "execution_count": 16,
      "outputs": [
        {
          "output_type": "stream",
          "name": "stdout",
          "text": [
            "(120, 72, 48, 1)\n",
            "\u001b[1m4/4\u001b[0m \u001b[32m━━━━━━━━━━━━━━━━━━━━\u001b[0m\u001b[37m\u001b[0m \u001b[1m0s\u001b[0m 11ms/step\n"
          ]
        }
      ]
    }
  ]
}