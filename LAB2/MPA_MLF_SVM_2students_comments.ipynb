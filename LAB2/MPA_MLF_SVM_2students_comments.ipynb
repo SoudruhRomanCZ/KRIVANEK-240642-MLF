{
  "cells": [
    {
      "cell_type": "markdown",
      "metadata": {
        "id": "view-in-github",
        "colab_type": "text"
      },
      "source": [
        "<a href=\"https://colab.research.google.com/github/SoudruhRomanCZ/KRIVANEK-240642-MLF/blob/main/LAB2/MPA_MLF_SVM_2students_comments.ipynb\" target=\"_parent\"><img src=\"https://colab.research.google.com/assets/colab-badge.svg\" alt=\"Open In Colab\"/></a>"
      ]
    },
    {
      "cell_type": "markdown",
      "metadata": {
        "id": "qpzybxGIwnuz"
      },
      "source": [
        "# SVM for classification"
      ]
    },
    {
      "cell_type": "markdown",
      "metadata": {
        "id": "eMcpNqv-uk-K"
      },
      "source": [
        "Load IRIS dataset, check its contents:\n"
      ]
    },
    {
      "cell_type": "code",
      "execution_count": 54,
      "metadata": {
        "colab": {
          "base_uri": "https://localhost:8080/"
        },
        "id": "0Pw3iTT7-brT",
        "outputId": "3c7a6130-de2a-4440-eb00-6a7f1b708db9"
      },
      "outputs": [
        {
          "output_type": "stream",
          "name": "stdout",
          "text": [
            "['sepal length (cm)', 'sepal width (cm)', 'petal length (cm)', 'petal width (cm)']\n",
            "[[5.1 3.5 1.4 0.2]\n",
            " [4.9 3.  1.4 0.2]\n",
            " [4.7 3.2 1.3 0.2]\n",
            " [4.6 3.1 1.5 0.2]\n",
            " [5.  3.6 1.4 0.2]]\n",
            "[0 0 0 0 0]\n"
          ]
        }
      ],
      "source": [
        "from sklearn.datasets import load_iris\n",
        "iris=load_iris()\n",
        "iris.feature_names\n",
        "print(iris.feature_names)\n",
        "print(iris.data[0:5,:])\n",
        "print(iris.target[0:5])\n",
        "#print(iris.data)"
      ]
    },
    {
      "cell_type": "markdown",
      "metadata": {
        "id": "H5VBL_QBussh"
      },
      "source": [
        "Split data into training and testing parts:"
      ]
    },
    {
      "cell_type": "code",
      "execution_count": 92,
      "metadata": {
        "colab": {
          "base_uri": "https://localhost:8080/"
        },
        "id": "rDk-PobDtp7b",
        "outputId": "d48b269f-4138-41b1-ebe4-949270e851d5"
      },
      "outputs": [
        {
          "output_type": "stream",
          "name": "stdout",
          "text": [
            "(120, 4)\n",
            "(30, 4)\n"
          ]
        }
      ],
      "source": [
        "from sklearn.model_selection import train_test_split\n",
        "X=iris.data\n",
        "y=iris.target\n",
        "X_train, X_test, y_train, y_test = train_test_split(X,y,test_size=0.2)\n",
        "print(X_train.shape)\n",
        "print(X_test.shape)"
      ]
    },
    {
      "cell_type": "markdown",
      "metadata": {
        "id": "3hjR3_OOuzZO"
      },
      "source": [
        "Use a Support Vector Machine for classification:\n"
      ]
    },
    {
      "cell_type": "code",
      "execution_count": 72,
      "metadata": {
        "colab": {
          "base_uri": "https://localhost:8080/"
        },
        "id": "XKbwK1yht2In",
        "outputId": "5d50d34b-8cc3-4e80-a624-c7a728edc30f"
      },
      "outputs": [
        {
          "output_type": "execute_result",
          "data": {
            "text/plain": [
              "1.0"
            ]
          },
          "metadata": {},
          "execution_count": 72
        }
      ],
      "source": [
        "from sklearn.svm import SVC\n",
        "SVMmodel=SVC(kernel='linear')\n",
        "SVMmodel.fit(X_train,y_train)\n",
        "SVMmodel.get_params()\n",
        "SVMmodel.score(X_test,y_test)"
      ]
    },
    {
      "cell_type": "markdown",
      "metadata": {
        "id": "XlCNzZsau7gg"
      },
      "source": [
        "Let's explore more now.\n",
        "\n",
        "*   Choose only first two features (columns) of iris.data\n",
        "*   SVM is in its basic form a 2-class classifier, so eliminate iris.target =2 from the data\n",
        "\n"
      ]
    },
    {
      "cell_type": "code",
      "execution_count": 74,
      "metadata": {
        "id": "nYdW9o1GhwFA",
        "outputId": "bfcf75de-0136-4263-a87f-949d325754de",
        "colab": {
          "base_uri": "https://localhost:8080/"
        }
      },
      "outputs": [
        {
          "output_type": "execute_result",
          "data": {
            "text/plain": [
              "(150, 2)"
            ]
          },
          "metadata": {},
          "execution_count": 74
        }
      ],
      "source": [
        "X = iris.data[:,0:2]\n",
        "X.shape"
      ]
    },
    {
      "cell_type": "markdown",
      "metadata": {
        "id": "Vx6fPm3KvlyH"
      },
      "source": [
        "Plot scatterplots of targets 0 and 1 and check the separability of the classes:"
      ]
    },
    {
      "cell_type": "code",
      "execution_count": 75,
      "metadata": {
        "id": "flQWBul_ZYjK",
        "outputId": "bfc6f396-c119-4f5e-b3fa-ffd95ed1ed14",
        "colab": {
          "base_uri": "https://localhost:8080/",
          "height": 433
        }
      },
      "outputs": [
        {
          "output_type": "display_data",
          "data": {
            "text/plain": [
              "<Figure size 640x480 with 1 Axes>"
            ],
            "image/png": "[encoded data removed]"
          },
          "metadata": {}
        }
      ],
      "source": [
        "import matplotlib.pyplot as plt\n",
        "plt.scatter(X[y==0,0], X[y==0,1],color='blue')\n",
        "plt.scatter(X[y==1,0], X[y==1,1],color='red')\n",
        "plt.show()"
      ]
    },
    {
      "cell_type": "markdown",
      "metadata": {
        "id": "mu3qUUvHv1TP"
      },
      "source": [
        "Train and test the SVM classifier, play with regularization parameter C (either use the default value or try e.g. 200)"
      ]
    },
    {
      "cell_type": "code",
      "execution_count": 110,
      "metadata": {
        "id": "HOo58lvZo_Lf",
        "outputId": "be4bcb50-56e0-484c-9cca-89836ed22979",
        "colab": {
          "base_uri": "https://localhost:8080/"
        }
      },
      "outputs": [
        {
          "output_type": "stream",
          "name": "stdout",
          "text": [
            "(80, 2)\n",
            "(20, 2)\n"
          ]
        },
        {
          "output_type": "execute_result",
          "data": {
            "text/plain": [
              "1.0"
            ]
          },
          "metadata": {},
          "execution_count": 110
        }
      ],
      "source": [
        "X = iris.data[iris.target!=2,0:2]\n",
        "print(X_train.shape)\n",
        "print(X_test.shape)\n",
        "y = iris.target[iris.target!=2]\n",
        "SVMmodel=SVC(kernel='linear')\n",
        "X_train, X_test, y_train, y_test = train_test_split(X,y,test_size=0.2)\n",
        "SVMmodel.fit(X_train,y_train)\n",
        "SVMmodel.get_params()\n",
        "SVMmodel.score(X_test,y_test)"
      ]
    },
    {
      "cell_type": "markdown",
      "metadata": {
        "id": "vpOHSYlCwdED"
      },
      "source": []
    },
    {
      "cell_type": "markdown",
      "metadata": {
        "id": "MshE_3pPwceK"
      },
      "source": [
        "Show support vectors in the 2D plot, plot the decision line from equation [w0 w1]*[x0 x1] + b = 0:"
      ]
    },
    {
      "cell_type": "code",
      "execution_count": 113,
      "metadata": {
        "colab": {
          "base_uri": "https://localhost:8080/",
          "height": 466
        },
        "id": "MkZj_qEMvHeY",
        "outputId": "d6e94bd8-2359-47b1-fae6-6a74128fc681"
      },
      "outputs": [
        {
          "output_type": "stream",
          "name": "stdout",
          "text": [
            "[[ 2.2222561  -2.22240228]]\n",
            "[-4.99958858]\n"
          ]
        },
        {
          "output_type": "display_data",
          "data": {
            "text/plain": [
              "<Figure size 640x480 with 1 Axes>"
            ],
            "image/png": "[encoded data removed]"
          },
          "metadata": {}
        }
      ],
      "source": [
        "supvectors=SVMmodel.support_vectors_\n",
        "# Plot the support vectors here\n",
        "\n",
        "\n",
        "#Separating line coefficients:\n",
        "W=SVMmodel.coef_\n",
        "b=SVMmodel.intercept_\n",
        "print(W)\n",
        "print(b)\n",
        "import numpy as np\n",
        "x1 = np.linspace(np.min(X[:,0]),np.max(X[:,0]),100)\n",
        "x2 = -b/W[0,1]-W[0,0]/W[0,1]*x1\n",
        "plt.scatter(X[y==0,0], X[y==0,1],color='blue')\n",
        "plt.scatter(X[y==1,0], X[y==1,1],color='red')\n",
        "plt.scatter(x1, x2,color='black')\n",
        "plt.show()"
      ]
    },
    {
      "cell_type": "markdown",
      "metadata": {
        "id": "TR9Kkzlrx6Pl"
      },
      "source": [
        "# Anomaly detection via SVM"
      ]
    },
    {
      "cell_type": "markdown",
      "metadata": {
        "id": "D6e44AnXmxZi"
      },
      "source": [
        "Import one-class SVM and generate data (Gaussian blobs in 2D-plane):"
      ]
    },
    {
      "cell_type": "code",
      "execution_count": null,
      "metadata": {
        "colab": {
          "base_uri": "https://localhost:8080/",
          "height": 265
        },
        "id": "kA9NeGTXm2Ry",
        "outputId": "9a3e0733-183d-4c18-bc7a-a04d40cb919c"
      },
      "outputs": [
        {
          "data": {
            "image/png": "[encoded data removed]",
            "text/plain": [
              "<Figure size 432x288 with 1 Axes>"
            ]
          },
          "metadata": {
            "needs_background": "light"
          },
          "output_type": "display_data"
        }
      ],
      "source": [
        "from sklearn.svm import OneClassSVM\n",
        "from sklearn.datasets import make_blobs\n",
        "from numpy import quantile, where, random\n",
        "\n",
        "random.seed(11)\n",
        "x, _ = make_blobs(n_samples=300, centers=1, cluster_std=.3, center_box=(4, 4))\n",
        "\n",
        "plt.scatter(x[:,0], x[:,1])\n",
        "plt.show()\n",
        "\n"
      ]
    },
    {
      "cell_type": "markdown",
      "metadata": {
        "id": "HrWy_Y9Sw41V"
      },
      "source": [
        "Train one-class SVM and plot the outliers (outputs of prediction being equal to -1)"
      ]
    },
    {
      "cell_type": "code",
      "execution_count": null,
      "metadata": {
        "colab": {
          "base_uri": "https://localhost:8080/",
          "height": 265
        },
        "id": "esEEn-KqoZic",
        "outputId": "2c0020b0-06d9-4a85-9420-26c8ca5c76a8"
      },
      "outputs": [
        {
          "data": {
            "image/png": "[encoded data removed]",
            "text/plain": [
              "<Figure size 432x288 with 1 Axes>"
            ]
          },
          "metadata": {
            "needs_background": "light"
          },
          "output_type": "display_data"
        }
      ],
      "source": [
        "SVMmodelOne = OneClassSVM(kernel='rbf', gamma=0.001, nu=0.03)\n",
        "\n",
        "\n",
        "SVMmodelOne.fit(x)\n",
        "pred = SVMmodelOne.predict(x)\n",
        "anom_index = where(pred==-1)\n",
        "values = x[anom_index]\n",
        "\n",
        "plt.scatter(x[:,0], x[:,1])\n",
        "plt.scatter(values[:,0], values[:,1], color='red')\n",
        "plt.axis('equal')\n",
        "plt.show()\n",
        "\n"
      ]
    },
    {
      "cell_type": "markdown",
      "metadata": {
        "id": "kIZmSPRGxNRK"
      },
      "source": [
        "Plot the support vectors:"
      ]
    },
    {
      "cell_type": "code",
      "execution_count": null,
      "metadata": {
        "id": "RJcyvEHKsR8T"
      },
      "outputs": [],
      "source": []
    },
    {
      "cell_type": "markdown",
      "metadata": {
        "id": "VbEUVj8RxS1p"
      },
      "source": [
        "What if we want to have a control what is outlier? Use e.g. 5% \"quantile\" to mark the outliers. Every point with lower score than threshold will be an outlier."
      ]
    },
    {
      "cell_type": "code",
      "execution_count": null,
      "metadata": {
        "colab": {
          "base_uri": "https://localhost:8080/",
          "height": 235
        },
        "id": "DQzxxUePs6sN",
        "outputId": "4793cfe0-625f-4479-d6ed-a22c3c084b05"
      },
      "outputs": [
        {
          "ename": "NameError",
          "evalue": "ignored",
          "output_type": "error",
          "traceback": [
            "\u001b[0;31m---------------------------------------------------------------------------\u001b[0m",
            "\u001b[0;31mNameError\u001b[0m                                 Traceback (most recent call last)",
            "\u001b[0;32m<ipython-input-3-96497469aca6>\u001b[0m in \u001b[0;36m<module>\u001b[0;34m\u001b[0m\n\u001b[0;32m----> 1\u001b[0;31m \u001b[0mscores\u001b[0m \u001b[0;34m=\u001b[0m \u001b[0mSVMmodelOne\u001b[0m\u001b[0;34m.\u001b[0m\u001b[0mscore_samples\u001b[0m\u001b[0;34m(\u001b[0m\u001b[0mx\u001b[0m\u001b[0;34m)\u001b[0m\u001b[0;34m\u001b[0m\u001b[0;34m\u001b[0m\u001b[0m\n\u001b[0m\u001b[1;32m      2\u001b[0m \u001b[0;34m\u001b[0m\u001b[0m\n\u001b[1;32m      3\u001b[0m \u001b[0mthresh\u001b[0m \u001b[0;34m=\u001b[0m \u001b[0mquantile\u001b[0m\u001b[0;34m(\u001b[0m\u001b[0mscores\u001b[0m\u001b[0;34m,\u001b[0m \u001b[0;36m0.01\u001b[0m\u001b[0;34m)\u001b[0m\u001b[0;34m\u001b[0m\u001b[0;34m\u001b[0m\u001b[0m\n\u001b[1;32m      4\u001b[0m \u001b[0mprint\u001b[0m\u001b[0;34m(\u001b[0m\u001b[0mthresh\u001b[0m\u001b[0;34m)\u001b[0m\u001b[0;34m\u001b[0m\u001b[0;34m\u001b[0m\u001b[0m\n\u001b[1;32m      5\u001b[0m \u001b[0mindex\u001b[0m \u001b[0;34m=\u001b[0m \u001b[0mwhere\u001b[0m\u001b[0;34m(\u001b[0m\u001b[0mscores\u001b[0m\u001b[0;34m<=\u001b[0m\u001b[0mthresh\u001b[0m\u001b[0;34m)\u001b[0m\u001b[0;34m\u001b[0m\u001b[0;34m\u001b[0m\u001b[0m\n",
            "\u001b[0;31mNameError\u001b[0m: name 'SVMmodelOne' is not defined"
          ]
        }
      ],
      "source": [
        "scores = SVMmodelOne.score_samples(x)\n",
        "\n",
        "thresh = quantile(scores, 0.01)\n",
        "print(thresh)\n",
        "index = where(scores<=thresh)\n",
        "values = x[index]\n",
        "\n",
        "plt.scatter(x[:,0], x[:,1])\n",
        "plt.scatter(values[:,0], values[:,1], color='red')\n",
        "plt.axis('equal')\n",
        "plt.show()"
      ]
    }
  ],
  "metadata": {
    "colab": {
      "provenance": [],
      "toc_visible": true,
      "include_colab_link": true
    },
    "kernelspec": {
      "display_name": "Python 3",
      "name": "python3"
    },
    "language_info": {
      "codemirror_mode": {
        "name": "ipython",
        "version": 3
      },
      "file_extension": ".py",
      "mimetype": "text/x-python",
      "name": "python",
      "nbconvert_exporter": "python",
      "pygments_lexer": "ipython3",
      "version": "3.11.10"
    }
  },
  "nbformat": 4,
  "nbformat_minor": 0
}